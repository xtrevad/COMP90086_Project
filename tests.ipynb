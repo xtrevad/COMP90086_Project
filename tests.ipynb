{
 "cells": [
  {
   "cell_type": "code",
   "execution_count": 14,
   "id": "0866d874-92b9-4699-9465-a4b624919beb",
   "metadata": {},
   "outputs": [],
   "source": [
    "import torch\n",
    "import torch.nn as nn\n",
    "import torch.optim as optim\n",
    "from torch.utils.data import Dataset, DataLoader, random_split, WeightedRandomSampler\n",
    "from torchvision import transforms, models\n",
    "from torchvision.models import EfficientNet_V2_S_Weights\n",
    "from PIL import Image\n",
    "import pandas as pd\n",
    "import seaborn as sns\n",
    "import matplotlib.pyplot as plt\n",
    "import json\n",
    "import numpy as np\n",
    "import os\n",
    "from torch.optim.lr_scheduler import ReduceLROnPlateau\n",
    "from tqdm import tqdm"
   ]
  },
  {
   "cell_type": "code",
   "execution_count": 9,
   "id": "b946f7e1-dfa4-46c2-96fc-0f8a65f5f2e2",
   "metadata": {},
   "outputs": [
    {
     "name": "stdout",
     "output_type": "stream",
     "text": [
      "Class distribution:\n",
      "Class 1: 1920 samples (25.00%)\n",
      "Class 2: 1920 samples (25.00%)\n",
      "Class 3: 1536 samples (20.00%)\n",
      "Class 4: 1152 samples (15.00%)\n",
      "Class 5: 768 samples (10.00%)\n",
      "Class 6: 384 samples (5.00%)\n",
      "\n",
      "Imbalance ratio: 5.00\n"
     ]
    },
    {
     "data": {
      "image/png": "[encoded data removed]",
      "text/plain": [
       "<Figure size 1000x600 with 1 Axes>"
      ]
     },
     "metadata": {},
     "output_type": "display_data"
    }
   ],
   "source": [
    "def check_dataset_balance(csv_file, label_column):\n",
    "    # Read the CSV file\n",
    "    df = pd.read_csv(csv_file)\n",
    "    \n",
    "    # Count the occurrences of each class\n",
    "    class_counts = df[label_column].value_counts().sort_index()\n",
    "    \n",
    "    # Calculate the percentage of each class\n",
    "    class_percentages = 100 * class_counts / len(df)\n",
    "    \n",
    "    # Print the counts and percentages\n",
    "    print(\"Class distribution:\")\n",
    "    for class_label, count in class_counts.items():\n",
    "        percentage = class_percentages[class_label]\n",
    "        print(f\"Class {class_label}: {count} samples ({percentage:.2f}%)\")\n",
    "    \n",
    "    # Calculate the imbalance ratio\n",
    "    imbalance_ratio = class_counts.max() / class_counts.min()\n",
    "    print(f\"\\nImbalance ratio: {imbalance_ratio:.2f}\")\n",
    "    \n",
    "    # Visualize the class distribution\n",
    "    plt.figure(figsize=(10, 6))\n",
    "    sns.barplot(x=class_counts.index, y=class_counts.values)\n",
    "    plt.title('Class Distribution in Dataset')\n",
    "    plt.xlabel('Class')\n",
    "    plt.ylabel('Number of Samples')\n",
    "    plt.show()\n",
    "\n",
    "# Usage example\n",
    "check_dataset_balance('./COMP90086_2024_Project_train/train.csv', 'stable_height')"
   ]
  },
  {
   "cell_type": "code",
   "execution_count": 10,
   "id": "912d5531-9cdd-4d31-aafe-c04cd2b37031",
   "metadata": {},
   "outputs": [],
   "source": [
    "class StabilityDataset(Dataset):\n",
    "    def __init__(self, csv_file, img_dir, transform=None, augment=False):\n",
    "        self.stability_data = pd.read_csv(csv_file)\n",
    "        self.img_dir = img_dir\n",
    "        self.transform = transform\n",
    "        self.augment = augment\n",
    "\n",
    "    def __len__(self):\n",
    "        return len(self.stability_data) * (2 if self.augment else 1)\n",
    "\n",
    "    def __getitem__(self, idx):\n",
    "        original_idx = idx // 2 if self.augment else idx\n",
    "        flip = self.augment and idx % 2 == 1\n",
    "\n",
    "        img_name = str(self.stability_data.iloc[original_idx, 0])\n",
    "        img_path = os.path.join(self.img_dir, img_name)\n",
    "        if not os.path.exists(img_path):\n",
    "            img_path = os.path.join(self.img_dir, f\"{img_name}.jpg\")\n",
    "        \n",
    "        image = Image.open(img_path).convert('RGB')\n",
    "        \n",
    "        stability_height = self.stability_data.iloc[original_idx, -1]\n",
    "        stability_class = int(stability_height) - 1\n",
    "\n",
    "        if flip:\n",
    "            image = image.transpose(Image.Transpose.FLIP_LEFT_RIGHT)\n",
    "        \n",
    "        if self.transform:\n",
    "            image = self.transform(image)\n",
    "\n",
    "        return image, torch.tensor(stability_class, dtype=torch.long)\n",
    "\n",
    "class StabilityPredictor(nn.Module):\n",
    "    def __init__(self, num_classes=6):\n",
    "        super(StabilityPredictor, self).__init__()\n",
    "        weights = EfficientNet_V2_S_Weights.DEFAULT\n",
    "        self.efficientnet = models.efficientnet_v2_s(weights=weights)\n",
    "        num_ftrs = self.efficientnet.classifier[1].in_features\n",
    "        self.efficientnet.classifier = nn.Sequential(\n",
    "            nn.Dropout(p=0.3, inplace=True),\n",
    "            nn.Linear(num_ftrs, num_classes)\n",
    "        )\n",
    "\n",
    "    def forward(self, x):\n",
    "        return self.efficientnet(x)"
   ]
  },
  {
   "cell_type": "code",
   "execution_count": 1,
   "id": "afd9b6e1-0c90-4513-b67d-ecc5e8381edb",
   "metadata": {},
   "outputs": [
    {
     "name": "stdout",
     "output_type": "stream",
     "text": [
      "Calculating dataset statistics...\n",
      "Processed 1000 images\n",
      "Processed 2000 images\n",
      "Processed 3000 images\n",
      "Processed 4000 images\n",
      "Processed 5000 images\n",
      "Processed 6000 images\n",
      "Processed 7000 images\n",
      "Dataset mean: tensor([0.4677, 0.4412, 0.4065])\n",
      "Dataset std: tensor([0.2721, 0.2285, 0.1913])\n",
      "Dataset statistics saved to 'dataset_stats.pth'\n"
     ]
    }
   ],
   "source": [
    "def calculate_dataset_stats(csv_file, img_dir):\n",
    "    transform = transforms.Compose([\n",
    "        transforms.ToTensor(),\n",
    "    ])\n",
    "\n",
    "    dataset = StabilityDataset(csv_file=csv_file, img_dir=img_dir, transform=transform)\n",
    "    loader = DataLoader(dataset, batch_size=1, num_workers=0, shuffle=False)\n",
    "    \n",
    "    mean = torch.zeros(3)\n",
    "    std = torch.zeros(3)\n",
    "    print(\"Calculating dataset statistics...\")\n",
    "    for i, images in enumerate(loader):\n",
    "        for j in range(3):\n",
    "            mean[j] += images[:, j, :, :].mean()\n",
    "            std[j] += images[:, j, :, :].std()\n",
    "        if (i+1) % 1000 == 0:\n",
    "            print(f\"Processed {i+1} images\")\n",
    "    \n",
    "    mean.div_(len(dataset))\n",
    "    std.div_(len(dataset))\n",
    "    \n",
    "    return mean, std\n",
    "\n",
    "# Calculate stats\n",
    "csv_file = './COMP90086_2024_Project_train/train.csv'\n",
    "img_dir = './COMP90086_2024_Project_train/train'\n",
    "mean, std = calculate_dataset_stats(csv_file, img_dir)\n",
    "\n",
    "print(f\"Dataset mean: {mean}\")\n",
    "print(f\"Dataset std: {std}\")\n",
    "\n",
    "# Save the stats\n",
    "torch.save({'mean': mean, 'std': std}, 'dataset_stats.pth')\n",
    "print(\"Dataset statistics saved to 'dataset_stats.pth'\")"
   ]
  },
  {
   "cell_type": "code",
   "execution_count": 20,
   "id": "c6112f1f-8299-43b4-b653-f2b87909b1cd",
   "metadata": {},
   "outputs": [
    {
     "name": "stdout",
     "output_type": "stream",
     "text": [
      "Loaded dataset mean: tensor([0.4677, 0.4412, 0.4065])\n",
      "Loaded dataset std: tensor([0.2721, 0.2285, 0.1913])\n",
      "Splitting dataset into 0.975:0.025 training/test split\n",
      "Training...\n",
      "Epoch 1/30\n"
     ]
    },
    {
     "name": "stderr",
     "output_type": "stream",
     "text": [
      "Training: 100%|██████████| 468/468 [00:56<00:00,  8.23it/s, loss=1.2487, acc=40.87%]\n",
      "Validating: 100%|██████████| 12/12 [00:01<00:00,  6.21it/s, loss=1.0824, acc=53.65%]\n"
     ]
    },
    {
     "name": "stdout",
     "output_type": "stream",
     "text": [
      "Train Loss: 1.3781, Train Acc: 40.87%\n",
      "Val Loss: 1.1304, Val Acc: 53.65%\n",
      "Learning Rate: 0.001000\n",
      "------------------------------------------------------------\n",
      "Epoch 2/30\n"
     ]
    },
    {
     "name": "stderr",
     "output_type": "stream",
     "text": [
      "Training: 100%|██████████| 468/468 [00:55<00:00,  8.41it/s, loss=1.0296, acc=55.44%]\n",
      "Validating: 100%|██████████| 12/12 [00:01<00:00,  6.32it/s, loss=1.1128, acc=56.77%]\n"
     ]
    },
    {
     "name": "stdout",
     "output_type": "stream",
     "text": [
      "Train Loss: 1.1010, Train Acc: 55.44%\n",
      "Val Loss: 1.0502, Val Acc: 56.77%\n",
      "Learning Rate: 0.001000\n",
      "------------------------------------------------------------\n",
      "Epoch 3/30\n"
     ]
    },
    {
     "name": "stderr",
     "output_type": "stream",
     "text": [
      "Training:  60%|█████▉    | 280/468 [00:34<00:23,  8.15it/s, loss=1.0431, acc=61.28%]\n"
     ]
    },
    {
     "ename": "KeyboardInterrupt",
     "evalue": "",
     "output_type": "error",
     "traceback": [
      "\u001b[0;31m---------------------------------------------------------------------------\u001b[0m",
      "\u001b[0;31mKeyboardInterrupt\u001b[0m                         Traceback (most recent call last)",
      "Cell \u001b[0;32mIn[20], line 116\u001b[0m\n\u001b[1;32m    113\u001b[0m scheduler \u001b[38;5;241m=\u001b[39m ReduceLROnPlateau(optimizer, mode\u001b[38;5;241m=\u001b[39m\u001b[38;5;124m'\u001b[39m\u001b[38;5;124mmin\u001b[39m\u001b[38;5;124m'\u001b[39m, factor\u001b[38;5;241m=\u001b[39m\u001b[38;5;241m0.1\u001b[39m, patience\u001b[38;5;241m=\u001b[39m\u001b[38;5;241m3\u001b[39m, verbose\u001b[38;5;241m=\u001b[39m\u001b[38;5;28;01mTrue\u001b[39;00m)\n\u001b[1;32m    115\u001b[0m \u001b[38;5;28mprint\u001b[39m(\u001b[38;5;124m'\u001b[39m\u001b[38;5;124mTraining...\u001b[39m\u001b[38;5;124m'\u001b[39m)\n\u001b[0;32m--> 116\u001b[0m model \u001b[38;5;241m=\u001b[39m \u001b[43mtrain_model\u001b[49m\u001b[43m(\u001b[49m\u001b[43mmodel\u001b[49m\u001b[43m,\u001b[49m\u001b[43m \u001b[49m\u001b[43mtrain_loader\u001b[49m\u001b[43m,\u001b[49m\u001b[43m \u001b[49m\u001b[43mval_loader\u001b[49m\u001b[43m,\u001b[49m\u001b[43m \u001b[49m\u001b[43mcriterion\u001b[49m\u001b[43m,\u001b[49m\u001b[43m \u001b[49m\u001b[43moptimizer\u001b[49m\u001b[43m,\u001b[49m\u001b[43m \u001b[49m\u001b[43mscheduler\u001b[49m\u001b[43m,\u001b[49m\u001b[43m \u001b[49m\u001b[43mnum_epochs\u001b[49m\u001b[38;5;241;43m=\u001b[39;49m\u001b[38;5;241;43m30\u001b[39;49m\u001b[43m,\u001b[49m\u001b[43m \u001b[49m\u001b[43mpatience\u001b[49m\u001b[38;5;241;43m=\u001b[39;49m\u001b[38;5;241;43m5\u001b[39;49m\u001b[43m)\u001b[49m\n\u001b[1;32m    118\u001b[0m torch\u001b[38;5;241m.\u001b[39msave(model\u001b[38;5;241m.\u001b[39mstate_dict(), \u001b[38;5;124m'\u001b[39m\u001b[38;5;124mstability_predictor_efficientnetv2_classification_augmented.pth\u001b[39m\u001b[38;5;124m'\u001b[39m)\n",
      "Cell \u001b[0;32mIn[20], line 14\u001b[0m, in \u001b[0;36mtrain_model\u001b[0;34m(model, train_loader, val_loader, criterion, optimizer, scheduler, num_epochs, patience)\u001b[0m\n\u001b[1;32m     12\u001b[0m \u001b[38;5;66;03m# Training phase\u001b[39;00m\n\u001b[1;32m     13\u001b[0m model\u001b[38;5;241m.\u001b[39mtrain()\n\u001b[0;32m---> 14\u001b[0m train_loss, train_acc \u001b[38;5;241m=\u001b[39m \u001b[43mrun_epoch\u001b[49m\u001b[43m(\u001b[49m\u001b[43mmodel\u001b[49m\u001b[43m,\u001b[49m\u001b[43m \u001b[49m\u001b[43mtrain_loader\u001b[49m\u001b[43m,\u001b[49m\u001b[43m \u001b[49m\u001b[43mcriterion\u001b[49m\u001b[43m,\u001b[49m\u001b[43m \u001b[49m\u001b[43moptimizer\u001b[49m\u001b[43m,\u001b[49m\u001b[43m \u001b[49m\u001b[43mdevice\u001b[49m\u001b[43m,\u001b[49m\u001b[43m \u001b[49m\u001b[43mis_training\u001b[49m\u001b[38;5;241;43m=\u001b[39;49m\u001b[38;5;28;43;01mTrue\u001b[39;49;00m\u001b[43m)\u001b[49m\n\u001b[1;32m     16\u001b[0m \u001b[38;5;66;03m# Validation phase\u001b[39;00m\n\u001b[1;32m     17\u001b[0m model\u001b[38;5;241m.\u001b[39meval()\n",
      "Cell \u001b[0;32mIn[20], line 64\u001b[0m, in \u001b[0;36mrun_epoch\u001b[0;34m(model, data_loader, criterion, optimizer, device, is_training)\u001b[0m\n\u001b[1;32m     61\u001b[0m     loss\u001b[38;5;241m.\u001b[39mbackward()\n\u001b[1;32m     62\u001b[0m     optimizer\u001b[38;5;241m.\u001b[39mstep()\n\u001b[0;32m---> 64\u001b[0m running_loss \u001b[38;5;241m+\u001b[39m\u001b[38;5;241m=\u001b[39m \u001b[43mloss\u001b[49m\u001b[38;5;241;43m.\u001b[39;49m\u001b[43mitem\u001b[49m\u001b[43m(\u001b[49m\u001b[43m)\u001b[49m \u001b[38;5;241m*\u001b[39m inputs\u001b[38;5;241m.\u001b[39msize(\u001b[38;5;241m0\u001b[39m)\n\u001b[1;32m     65\u001b[0m _, predicted \u001b[38;5;241m=\u001b[39m outputs\u001b[38;5;241m.\u001b[39mmax(\u001b[38;5;241m1\u001b[39m)\n\u001b[1;32m     66\u001b[0m total \u001b[38;5;241m+\u001b[39m\u001b[38;5;241m=\u001b[39m labels\u001b[38;5;241m.\u001b[39msize(\u001b[38;5;241m0\u001b[39m)\n",
      "\u001b[0;31mKeyboardInterrupt\u001b[0m: "
     ]
    }
   ],
   "source": [
    "def train_model(model, train_loader, val_loader, criterion, optimizer, scheduler, num_epochs, patience=5):\n",
    "    device = torch.device(\"cuda:0\" if torch.cuda.is_available() else \"cpu\")\n",
    "    model.to(device)\n",
    "    \n",
    "    best_val_loss = float('inf')\n",
    "    epochs_no_improve = 0\n",
    "    best_model = None\n",
    "    \n",
    "    for epoch in range(num_epochs):\n",
    "        print(f'Epoch {epoch+1}/{num_epochs}')\n",
    "        \n",
    "        # Training phase\n",
    "        model.train()\n",
    "        train_loss, train_acc = run_epoch(model, train_loader, criterion, optimizer, device, is_training=True)\n",
    "        \n",
    "        # Validation phase\n",
    "        model.eval()\n",
    "        val_loss, val_acc = run_epoch(model, val_loader, criterion, optimizer, device, is_training=False)\n",
    "        \n",
    "        # Learning rate scheduler step\n",
    "        scheduler.step(val_loss)\n",
    "\n",
    "        print(f'Train Loss: {train_loss:.4f}, Train Acc: {train_acc:.2f}%')\n",
    "        print(f'Val Loss: {val_loss:.4f}, Val Acc: {val_acc:.2f}%')\n",
    "        print(f'Learning Rate: {optimizer.param_groups[0][\"lr\"]:.6f}')\n",
    "        print('-' * 60)\n",
    "\n",
    "        # Early stopping check\n",
    "        if val_loss < best_val_loss:\n",
    "            best_val_loss = val_loss\n",
    "            epochs_no_improve = 0\n",
    "            best_model = model.state_dict()\n",
    "        else:\n",
    "            epochs_no_improve += 1\n",
    "\n",
    "        if epochs_no_improve == patience:\n",
    "            print(f'Early stopping triggered after {epoch + 1} epochs')\n",
    "            model.load_state_dict(best_model)\n",
    "            break\n",
    "\n",
    "    return model\n",
    "\n",
    "def run_epoch(model, data_loader, criterion, optimizer, device, is_training=True):\n",
    "    running_loss = 0.0\n",
    "    correct = 0\n",
    "    total = 0\n",
    "\n",
    "    # Create progress bar\n",
    "    progress_bar = tqdm(data_loader, desc=\"Training\" if is_training else \"Validating\")\n",
    "\n",
    "    for inputs, labels in progress_bar:\n",
    "        inputs, labels = inputs.to(device), labels.to(device)\n",
    "        \n",
    "        if is_training:\n",
    "            optimizer.zero_grad()\n",
    "        \n",
    "        outputs = model(inputs)\n",
    "        loss = criterion(outputs, labels)\n",
    "        \n",
    "        if is_training:\n",
    "            loss.backward()\n",
    "            optimizer.step()\n",
    "        \n",
    "        running_loss += loss.item() * inputs.size(0)\n",
    "        _, predicted = outputs.max(1)\n",
    "        total += labels.size(0)\n",
    "        correct += predicted.eq(labels).sum().item()\n",
    "\n",
    "        # Update progress bar\n",
    "        progress_bar.set_postfix({\n",
    "            'loss': f'{loss.item():.4f}',\n",
    "            'acc': f'{100. * correct / total:.2f}%'\n",
    "        })\n",
    "    \n",
    "    epoch_loss = running_loss / len(data_loader.dataset)\n",
    "    epoch_acc = 100. * correct / total\n",
    "\n",
    "    return epoch_loss, epoch_acc\n",
    "\n",
    "# Load pre-calculated dataset statistics\n",
    "stats = torch.load('dataset_stats.pth')\n",
    "mean, std = stats['mean'], stats['std']\n",
    "print(f\"Loaded dataset mean: {mean}\")\n",
    "print(f\"Loaded dataset std: {std}\")\n",
    "\n",
    "# Create transform with loaded normalization\n",
    "transform = transforms.Compose([\n",
    "    transforms.ToTensor(),\n",
    "    transforms.Normalize(mean=mean.tolist(), std=std.tolist()),\n",
    "])\n",
    "\n",
    "# Create full dataset with augmentation and correct normalization\n",
    "full_dataset = StabilityDataset(csv_file='./COMP90086_2024_Project_train/train.csv', \n",
    "                                img_dir='./COMP90086_2024_Project_train/train', \n",
    "                                transform=transform,\n",
    "                                augment=True)  # Enable augmentation\n",
    "\n",
    "# Split dataset into train and validation\n",
    "val_ratio = 0.025\n",
    "dataset_size = len(full_dataset)\n",
    "val_size = int(val_ratio * dataset_size)\n",
    "train_size = dataset_size - val_size\n",
    "print(f'Splitting dataset into {(1 - val_ratio)}:{val_ratio} training/test split')\n",
    "train_dataset, val_dataset = random_split(full_dataset, [train_size, val_size])\n",
    "\n",
    "# Create data loaders\n",
    "train_loader = DataLoader(train_dataset, batch_size=32, num_workers=8)\n",
    "val_loader = DataLoader(val_dataset, batch_size=32, shuffle=False, num_workers=8)\n",
    "\n",
    "model = StabilityPredictor(num_classes=6)\n",
    "criterion = nn.CrossEntropyLoss()\n",
    "optimizer = optim.Adam(model.parameters(), lr=0.001)\n",
    "scheduler = ReduceLROnPlateau(optimizer, mode='min', factor=0.1, patience=3, verbose=True)\n",
    "\n",
    "print('Training...')\n",
    "model = train_model(model, train_loader, val_loader, criterion, optimizer, scheduler, num_epochs=30, patience=5)\n",
    "\n",
    "torch.save(model.state_dict(), 'stability_predictor_efficientnetv2_classification_augmented.pth')"
   ]
  },
  {
   "cell_type": "code",
   "execution_count": 7,
   "id": "cabe0889-5940-4e36-b3a2-2f4093d48379",
   "metadata": {},
   "outputs": [
    {
     "name": "stdout",
     "output_type": "stream",
     "text": [
      "Predictions saved to predictions.csv\n"
     ]
    }
   ],
   "source": [
    "import csv\n",
    "\n",
    "def predict(model, test_loader, device):\n",
    "    model.eval()\n",
    "    predictions = []\n",
    "    image_ids = []\n",
    "\n",
    "    with torch.no_grad():\n",
    "        for inputs, ids in test_loader:\n",
    "            inputs = inputs.to(device)\n",
    "            outputs = model(inputs)\n",
    "            _, preds = torch.max(outputs, 1)\n",
    "            predictions.extend(preds.cpu().numpy() + 1)  # Add 1 to convert back to 1-6 range\n",
    "            image_ids.extend(ids.numpy())  # Convert tensor to numpy array\n",
    "\n",
    "    return predictions, image_ids\n",
    "\n",
    "def main():\n",
    "    # Set up device\n",
    "    device = torch.device(\"cuda:0\" if torch.cuda.is_available() else \"cpu\")\n",
    "\n",
    "    # Define transformation\n",
    "    transform = transforms.Compose([\n",
    "        transforms.ToTensor(),\n",
    "        transforms.Normalize(mean=[0.485, 0.456, 0.406], std=[0.229, 0.224, 0.225]),\n",
    "    ])\n",
    "\n",
    "    # Load the unlabeled dataset\n",
    "    test_dataset = StabilityDataset(csv_file='./COMP90086_2024_Project_test/test.csv', \n",
    "                                    img_dir='./COMP90086_2024_Project_test/test', \n",
    "                                    transform=transform)\n",
    "    test_loader = DataLoader(test_dataset, batch_size=32, shuffle=False, num_workers=4)\n",
    "\n",
    "    # Load the trained model\n",
    "    model = StabilityPredictor(num_classes=6)\n",
    "    model.load_state_dict(torch.load('stability_predictor_efficientnetv2_classification_augmented.pth'))\n",
    "    model.to(device)\n",
    "\n",
    "    # Make predictions\n",
    "    predictions, image_ids = predict(model, test_loader, device)\n",
    "\n",
    "    # Save predictions to CSV\n",
    "    with open('predictions.csv', 'w', newline='') as csvfile:\n",
    "        writer = csv.writer(csvfile)\n",
    "        writer.writerow(['id', 'labels'])\n",
    "        for img_id, pred in zip(image_ids, predictions):\n",
    "            writer.writerow([int(img_id) + 1, int(pred)])  # Ensure both are integers\n",
    "\n",
    "    print(\"Predictions saved to predictions.csv\")\n",
    "\n",
    "if __name__ == '__main__':\n",
    "    main()"
   ]
  },
  {
   "cell_type": "code",
   "execution_count": 11,
   "id": "172b1b6a-895d-4a69-a839-762b02e2dd07",
   "metadata": {},
   "outputs": [
    {
     "name": "stdout",
     "output_type": "stream",
     "text": [
      "Loaded dataset mean: tensor([0.4677, 0.4412, 0.4065])\n",
      "Loaded dataset std: tensor([0.2721, 0.2285, 0.1913])\n"
     ]
    },
    {
     "ename": "KeyError",
     "evalue": "'image_id'",
     "output_type": "error",
     "traceback": [
      "\u001b[0;31m---------------------------------------------------------------------------\u001b[0m",
      "\u001b[0;31mKeyError\u001b[0m                                  Traceback (most recent call last)",
      "File \u001b[0;32m/usr/local/lib/python3.10/dist-packages/pandas/core/indexes/base.py:3805\u001b[0m, in \u001b[0;36mIndex.get_loc\u001b[0;34m(self, key)\u001b[0m\n\u001b[1;32m   3804\u001b[0m \u001b[38;5;28;01mtry\u001b[39;00m:\n\u001b[0;32m-> 3805\u001b[0m     \u001b[38;5;28;01mreturn\u001b[39;00m \u001b[38;5;28;43mself\u001b[39;49m\u001b[38;5;241;43m.\u001b[39;49m\u001b[43m_engine\u001b[49m\u001b[38;5;241;43m.\u001b[39;49m\u001b[43mget_loc\u001b[49m\u001b[43m(\u001b[49m\u001b[43mcasted_key\u001b[49m\u001b[43m)\u001b[49m\n\u001b[1;32m   3806\u001b[0m \u001b[38;5;28;01mexcept\u001b[39;00m \u001b[38;5;167;01mKeyError\u001b[39;00m \u001b[38;5;28;01mas\u001b[39;00m err:\n",
      "File \u001b[0;32mindex.pyx:167\u001b[0m, in \u001b[0;36mpandas._libs.index.IndexEngine.get_loc\u001b[0;34m()\u001b[0m\n",
      "File \u001b[0;32mindex.pyx:196\u001b[0m, in \u001b[0;36mpandas._libs.index.IndexEngine.get_loc\u001b[0;34m()\u001b[0m\n",
      "File \u001b[0;32mpandas/_libs/hashtable_class_helper.pxi:7081\u001b[0m, in \u001b[0;36mpandas._libs.hashtable.PyObjectHashTable.get_item\u001b[0;34m()\u001b[0m\n",
      "File \u001b[0;32mpandas/_libs/hashtable_class_helper.pxi:7089\u001b[0m, in \u001b[0;36mpandas._libs.hashtable.PyObjectHashTable.get_item\u001b[0;34m()\u001b[0m\n",
      "\u001b[0;31mKeyError\u001b[0m: 'image_id'",
      "\nThe above exception was the direct cause of the following exception:\n",
      "\u001b[0;31mKeyError\u001b[0m                                  Traceback (most recent call last)",
      "Cell \u001b[0;32mIn[11], line 228\u001b[0m\n\u001b[1;32m    225\u001b[0m train_dataset, val_dataset \u001b[38;5;241m=\u001b[39m random_split(full_dataset, [train_size, val_size])\n\u001b[1;32m    227\u001b[0m \u001b[38;5;66;03m# Create balanced sampler for training data\u001b[39;00m\n\u001b[0;32m--> 228\u001b[0m train_sampler \u001b[38;5;241m=\u001b[39m \u001b[43mcreate_balanced_sampler\u001b[49m\u001b[43m(\u001b[49m\u001b[43mtrain_dataset\u001b[49m\u001b[43m)\u001b[49m\n\u001b[1;32m    230\u001b[0m \u001b[38;5;66;03m# Create data loaders\u001b[39;00m\n\u001b[1;32m    231\u001b[0m train_loader \u001b[38;5;241m=\u001b[39m DataLoader(train_dataset, batch_size\u001b[38;5;241m=\u001b[39m\u001b[38;5;241m32\u001b[39m, sampler\u001b[38;5;241m=\u001b[39mtrain_sampler, num_workers\u001b[38;5;241m=\u001b[39m\u001b[38;5;241m4\u001b[39m)\n",
      "Cell \u001b[0;32mIn[11], line 98\u001b[0m, in \u001b[0;36mcreate_balanced_sampler\u001b[0;34m(dataset)\u001b[0m\n\u001b[1;32m     97\u001b[0m \u001b[38;5;28;01mdef\u001b[39;00m \u001b[38;5;21mcreate_balanced_sampler\u001b[39m(dataset):\n\u001b[0;32m---> 98\u001b[0m     targets \u001b[38;5;241m=\u001b[39m [item[\u001b[38;5;124m'\u001b[39m\u001b[38;5;124mstability_class\u001b[39m\u001b[38;5;124m'\u001b[39m]\u001b[38;5;241m.\u001b[39mitem() \u001b[38;5;28;01mfor\u001b[39;00m _, item \u001b[38;5;129;01min\u001b[39;00m dataset]\n\u001b[1;32m     99\u001b[0m     class_sample_count \u001b[38;5;241m=\u001b[39m torch\u001b[38;5;241m.\u001b[39mtensor([(torch\u001b[38;5;241m.\u001b[39mtensor(targets) \u001b[38;5;241m==\u001b[39m t)\u001b[38;5;241m.\u001b[39msum() \u001b[38;5;28;01mfor\u001b[39;00m t \u001b[38;5;129;01min\u001b[39;00m torch\u001b[38;5;241m.\u001b[39munique(torch\u001b[38;5;241m.\u001b[39mtensor(targets), \u001b[38;5;28msorted\u001b[39m\u001b[38;5;241m=\u001b[39m\u001b[38;5;28;01mTrue\u001b[39;00m)])\n\u001b[1;32m    100\u001b[0m     weight \u001b[38;5;241m=\u001b[39m \u001b[38;5;241m1.\u001b[39m \u001b[38;5;241m/\u001b[39m class_sample_count\u001b[38;5;241m.\u001b[39mfloat()\n",
      "Cell \u001b[0;32mIn[11], line 98\u001b[0m, in \u001b[0;36m<listcomp>\u001b[0;34m(.0)\u001b[0m\n\u001b[1;32m     97\u001b[0m \u001b[38;5;28;01mdef\u001b[39;00m \u001b[38;5;21mcreate_balanced_sampler\u001b[39m(dataset):\n\u001b[0;32m---> 98\u001b[0m     targets \u001b[38;5;241m=\u001b[39m [item[\u001b[38;5;124m'\u001b[39m\u001b[38;5;124mstability_class\u001b[39m\u001b[38;5;124m'\u001b[39m]\u001b[38;5;241m.\u001b[39mitem() \u001b[38;5;28;01mfor\u001b[39;00m _, item \u001b[38;5;129;01min\u001b[39;00m dataset]\n\u001b[1;32m     99\u001b[0m     class_sample_count \u001b[38;5;241m=\u001b[39m torch\u001b[38;5;241m.\u001b[39mtensor([(torch\u001b[38;5;241m.\u001b[39mtensor(targets) \u001b[38;5;241m==\u001b[39m t)\u001b[38;5;241m.\u001b[39msum() \u001b[38;5;28;01mfor\u001b[39;00m t \u001b[38;5;129;01min\u001b[39;00m torch\u001b[38;5;241m.\u001b[39munique(torch\u001b[38;5;241m.\u001b[39mtensor(targets), \u001b[38;5;28msorted\u001b[39m\u001b[38;5;241m=\u001b[39m\u001b[38;5;28;01mTrue\u001b[39;00m)])\n\u001b[1;32m    100\u001b[0m     weight \u001b[38;5;241m=\u001b[39m \u001b[38;5;241m1.\u001b[39m \u001b[38;5;241m/\u001b[39m class_sample_count\u001b[38;5;241m.\u001b[39mfloat()\n",
      "File \u001b[0;32m/usr/local/lib/python3.10/dist-packages/torch/utils/data/dataset.py:356\u001b[0m, in \u001b[0;36mSubset.__getitem__\u001b[0;34m(self, idx)\u001b[0m\n\u001b[1;32m    354\u001b[0m \u001b[38;5;28;01mif\u001b[39;00m \u001b[38;5;28misinstance\u001b[39m(idx, \u001b[38;5;28mlist\u001b[39m):\n\u001b[1;32m    355\u001b[0m     \u001b[38;5;28;01mreturn\u001b[39;00m \u001b[38;5;28mself\u001b[39m\u001b[38;5;241m.\u001b[39mdataset[[\u001b[38;5;28mself\u001b[39m\u001b[38;5;241m.\u001b[39mindices[i] \u001b[38;5;28;01mfor\u001b[39;00m i \u001b[38;5;129;01min\u001b[39;00m idx]]\n\u001b[0;32m--> 356\u001b[0m \u001b[38;5;28;01mreturn\u001b[39;00m \u001b[38;5;28;43mself\u001b[39;49m\u001b[38;5;241;43m.\u001b[39;49m\u001b[43mdataset\u001b[49m\u001b[43m[\u001b[49m\u001b[38;5;28;43mself\u001b[39;49m\u001b[38;5;241;43m.\u001b[39;49m\u001b[43mindices\u001b[49m\u001b[43m[\u001b[49m\u001b[43midx\u001b[49m\u001b[43m]\u001b[49m\u001b[43m]\u001b[49m\n",
      "Cell \u001b[0;32mIn[11], line 32\u001b[0m, in \u001b[0;36mEnhancedStabilityDataset.__getitem__\u001b[0;34m(self, idx)\u001b[0m\n\u001b[1;32m     29\u001b[0m flip \u001b[38;5;241m=\u001b[39m \u001b[38;5;28mself\u001b[39m\u001b[38;5;241m.\u001b[39maugment \u001b[38;5;129;01mand\u001b[39;00m idx \u001b[38;5;241m%\u001b[39m \u001b[38;5;241m2\u001b[39m \u001b[38;5;241m==\u001b[39m \u001b[38;5;241m1\u001b[39m\n\u001b[1;32m     31\u001b[0m row \u001b[38;5;241m=\u001b[39m \u001b[38;5;28mself\u001b[39m\u001b[38;5;241m.\u001b[39mstability_data\u001b[38;5;241m.\u001b[39miloc[original_idx]\n\u001b[0;32m---> 32\u001b[0m img_name \u001b[38;5;241m=\u001b[39m \u001b[38;5;28mstr\u001b[39m(\u001b[43mrow\u001b[49m\u001b[43m[\u001b[49m\u001b[38;5;124;43m'\u001b[39;49m\u001b[38;5;124;43mimage_id\u001b[39;49m\u001b[38;5;124;43m'\u001b[39;49m\u001b[43m]\u001b[49m)\n\u001b[1;32m     33\u001b[0m img_path \u001b[38;5;241m=\u001b[39m os\u001b[38;5;241m.\u001b[39mpath\u001b[38;5;241m.\u001b[39mjoin(\u001b[38;5;28mself\u001b[39m\u001b[38;5;241m.\u001b[39mimg_dir, img_name)\n\u001b[1;32m     34\u001b[0m \u001b[38;5;28;01mif\u001b[39;00m \u001b[38;5;129;01mnot\u001b[39;00m os\u001b[38;5;241m.\u001b[39mpath\u001b[38;5;241m.\u001b[39mexists(img_path):\n",
      "File \u001b[0;32m/usr/local/lib/python3.10/dist-packages/pandas/core/series.py:1121\u001b[0m, in \u001b[0;36mSeries.__getitem__\u001b[0;34m(self, key)\u001b[0m\n\u001b[1;32m   1118\u001b[0m     \u001b[38;5;28;01mreturn\u001b[39;00m \u001b[38;5;28mself\u001b[39m\u001b[38;5;241m.\u001b[39m_values[key]\n\u001b[1;32m   1120\u001b[0m \u001b[38;5;28;01melif\u001b[39;00m key_is_scalar:\n\u001b[0;32m-> 1121\u001b[0m     \u001b[38;5;28;01mreturn\u001b[39;00m \u001b[38;5;28;43mself\u001b[39;49m\u001b[38;5;241;43m.\u001b[39;49m\u001b[43m_get_value\u001b[49m\u001b[43m(\u001b[49m\u001b[43mkey\u001b[49m\u001b[43m)\u001b[49m\n\u001b[1;32m   1123\u001b[0m \u001b[38;5;66;03m# Convert generator to list before going through hashable part\u001b[39;00m\n\u001b[1;32m   1124\u001b[0m \u001b[38;5;66;03m# (We will iterate through the generator there to check for slices)\u001b[39;00m\n\u001b[1;32m   1125\u001b[0m \u001b[38;5;28;01mif\u001b[39;00m is_iterator(key):\n",
      "File \u001b[0;32m/usr/local/lib/python3.10/dist-packages/pandas/core/series.py:1237\u001b[0m, in \u001b[0;36mSeries._get_value\u001b[0;34m(self, label, takeable)\u001b[0m\n\u001b[1;32m   1234\u001b[0m     \u001b[38;5;28;01mreturn\u001b[39;00m \u001b[38;5;28mself\u001b[39m\u001b[38;5;241m.\u001b[39m_values[label]\n\u001b[1;32m   1236\u001b[0m \u001b[38;5;66;03m# Similar to Index.get_value, but we do not fall back to positional\u001b[39;00m\n\u001b[0;32m-> 1237\u001b[0m loc \u001b[38;5;241m=\u001b[39m \u001b[38;5;28;43mself\u001b[39;49m\u001b[38;5;241;43m.\u001b[39;49m\u001b[43mindex\u001b[49m\u001b[38;5;241;43m.\u001b[39;49m\u001b[43mget_loc\u001b[49m\u001b[43m(\u001b[49m\u001b[43mlabel\u001b[49m\u001b[43m)\u001b[49m\n\u001b[1;32m   1239\u001b[0m \u001b[38;5;28;01mif\u001b[39;00m is_integer(loc):\n\u001b[1;32m   1240\u001b[0m     \u001b[38;5;28;01mreturn\u001b[39;00m \u001b[38;5;28mself\u001b[39m\u001b[38;5;241m.\u001b[39m_values[loc]\n",
      "File \u001b[0;32m/usr/local/lib/python3.10/dist-packages/pandas/core/indexes/base.py:3812\u001b[0m, in \u001b[0;36mIndex.get_loc\u001b[0;34m(self, key)\u001b[0m\n\u001b[1;32m   3807\u001b[0m     \u001b[38;5;28;01mif\u001b[39;00m \u001b[38;5;28misinstance\u001b[39m(casted_key, \u001b[38;5;28mslice\u001b[39m) \u001b[38;5;129;01mor\u001b[39;00m (\n\u001b[1;32m   3808\u001b[0m         \u001b[38;5;28misinstance\u001b[39m(casted_key, abc\u001b[38;5;241m.\u001b[39mIterable)\n\u001b[1;32m   3809\u001b[0m         \u001b[38;5;129;01mand\u001b[39;00m \u001b[38;5;28many\u001b[39m(\u001b[38;5;28misinstance\u001b[39m(x, \u001b[38;5;28mslice\u001b[39m) \u001b[38;5;28;01mfor\u001b[39;00m x \u001b[38;5;129;01min\u001b[39;00m casted_key)\n\u001b[1;32m   3810\u001b[0m     ):\n\u001b[1;32m   3811\u001b[0m         \u001b[38;5;28;01mraise\u001b[39;00m InvalidIndexError(key)\n\u001b[0;32m-> 3812\u001b[0m     \u001b[38;5;28;01mraise\u001b[39;00m \u001b[38;5;167;01mKeyError\u001b[39;00m(key) \u001b[38;5;28;01mfrom\u001b[39;00m \u001b[38;5;21;01merr\u001b[39;00m\n\u001b[1;32m   3813\u001b[0m \u001b[38;5;28;01mexcept\u001b[39;00m \u001b[38;5;167;01mTypeError\u001b[39;00m:\n\u001b[1;32m   3814\u001b[0m     \u001b[38;5;66;03m# If we have a listlike key, _check_indexing_error will raise\u001b[39;00m\n\u001b[1;32m   3815\u001b[0m     \u001b[38;5;66;03m#  InvalidIndexError. Otherwise we fall through and re-raise\u001b[39;00m\n\u001b[1;32m   3816\u001b[0m     \u001b[38;5;66;03m#  the TypeError.\u001b[39;00m\n\u001b[1;32m   3817\u001b[0m     \u001b[38;5;28mself\u001b[39m\u001b[38;5;241m.\u001b[39m_check_indexing_error(key)\n",
      "\u001b[0;31mKeyError\u001b[0m: 'image_id'"
     ]
    }
   ],
   "source": []
  },
  {
   "cell_type": "code",
   "execution_count": 27,
   "id": "28dac5b9-c8cd-4621-82e1-170afee2da58",
   "metadata": {},
   "outputs": [],
   "source": [
    "class StabilityDataset(Dataset):\n",
    "    def __init__(self, csv_file, img_dir, transform=None, augment=False):\n",
    "        self.stability_data = pd.read_csv(csv_file)\n",
    "        self.img_dir = img_dir\n",
    "        self.transform = transform\n",
    "        self.augment = augment\n",
    "\n",
    "        # Create mappings for categorical variables\n",
    "        self.shapeset_map = {s: i for i, s in enumerate(self.stability_data['shapeset'].unique())}\n",
    "        self.type_map = {t: i for i, t in enumerate(self.stability_data['type'].unique())}\n",
    "        self.instability_type_map = {it: i for i, it in enumerate(self.stability_data['instability_type'].unique())}\n",
    "\n",
    "    def __len__(self):\n",
    "        return len(self.stability_data) * (2 if self.augment else 1)\n",
    "\n",
    "    def __getitem__(self, idx):\n",
    "        original_idx = idx // 2 if self.augment else idx\n",
    "        flip = self.augment and idx % 2 == 1\n",
    "\n",
    "        img_name = str(self.stability_data.iloc[original_idx, 0])\n",
    "        img_path = os.path.join(self.img_dir, img_name)\n",
    "        if not os.path.exists(img_path):\n",
    "            img_path = os.path.join(self.img_dir, f\"{img_name}.jpg\")\n",
    "        \n",
    "        image = Image.open(img_path).convert('RGB')\n",
    "        \n",
    "        row = self.stability_data.iloc[original_idx]\n",
    "        stability_class = int(row['total_height']) - 1\n",
    "\n",
    "        # Get additional features\n",
    "        shapeset = self.shapeset_map[row['shapeset']]\n",
    "        type_ = self.type_map[row['type']]\n",
    "        instability_type = self.instability_type_map[row['instability_type']]\n",
    "        cam_angle = row['cam_angle']\n",
    "\n",
    "        if flip:\n",
    "            image = image.transpose(Image.Transpose.FLIP_LEFT_RIGHT)\n",
    "        \n",
    "        if self.transform:\n",
    "            image = self.transform(image)\n",
    "\n",
    "        return image, torch.tensor(stability_class, dtype=torch.long), torch.tensor([shapeset, type_, instability_type, cam_angle], dtype=torch.float)\n",
    "\n",
    "class MultiTaskStabilityPredictor(nn.Module):\n",
    "    def __init__(self, num_stability_classes=6, num_shapeset_classes=None, num_type_classes=None, num_instability_type_classes=None):\n",
    "        super(MultiTaskStabilityPredictor, self).__init__()\n",
    "        weights = EfficientNet_V2_S_Weights.DEFAULT\n",
    "        self.efficientnet = models.efficientnet_v2_s(weights=weights)\n",
    "        num_ftrs = self.efficientnet.classifier[1].in_features\n",
    "        \n",
    "        # Remove the original classifier\n",
    "        self.efficientnet = nn.Sequential(*list(self.efficientnet.children())[:-1])\n",
    "        \n",
    "        # Add new classifiers for each task\n",
    "        self.stability_classifier = nn.Sequential(\n",
    "            nn.Dropout(p=0.3),\n",
    "            nn.Linear(num_ftrs, num_stability_classes)\n",
    "        )\n",
    "        self.shapeset_classifier = nn.Linear(num_ftrs, num_shapeset_classes)\n",
    "        self.type_classifier = nn.Linear(num_ftrs, num_type_classes)\n",
    "        self.instability_type_classifier = nn.Linear(num_ftrs, num_instability_type_classes)\n",
    "        self.cam_angle_regressor = nn.Linear(num_ftrs, 1)\n",
    "\n",
    "    def forward(self, x):\n",
    "        features = self.efficientnet(x)\n",
    "        features = features.view(features.size(0), -1)\n",
    "        \n",
    "        stability = self.stability_classifier(features)\n",
    "        shapeset = self.shapeset_classifier(features)\n",
    "        type_ = self.type_classifier(features)\n",
    "        instability_type = self.instability_type_classifier(features)\n",
    "        cam_angle = self.cam_angle_regressor(features)\n",
    "        \n",
    "        return stability, shapeset, type_, instability_type, cam_angle"
   ]
  },
  {
   "cell_type": "code",
   "execution_count": 22,
   "id": "995b4e3c-c7bf-4a3b-93d6-ef999c983e08",
   "metadata": {},
   "outputs": [
    {
     "name": "stdout",
     "output_type": "stream",
     "text": [
      "Loaded dataset mean: tensor([0.4677, 0.4412, 0.4065])\n",
      "Loaded dataset std: tensor([0.2721, 0.2285, 0.1913])\n",
      "Epoch 1/30\n"
     ]
    },
    {
     "name": "stderr",
     "output_type": "stream",
     "text": [
      "Training: 100%|██████████| 432/432 [00:51<00:00,  8.39it/s, loss=0.5347, acc=80.91%]\n",
      "Validating: 100%|██████████| 48/48 [00:02<00:00, 17.28it/s, loss=0.6160, acc=90.04%]\n"
     ]
    },
    {
     "name": "stdout",
     "output_type": "stream",
     "text": [
      "Train Loss: 0.8008, Train Acc: 80.91%\n",
      "Val Loss: 0.5171, Val Acc: 90.04%\n",
      "Learning Rate: 0.001000\n",
      "------------------------------------------------------------\n",
      "Epoch 2/30\n"
     ]
    },
    {
     "name": "stderr",
     "output_type": "stream",
     "text": [
      "Training: 100%|██████████| 432/432 [00:51<00:00,  8.38it/s, loss=0.4180, acc=92.17%]\n",
      "Validating: 100%|██████████| 48/48 [00:02<00:00, 18.15it/s, loss=0.3278, acc=94.60%]\n"
     ]
    },
    {
     "name": "stdout",
     "output_type": "stream",
     "text": [
      "Train Loss: 0.4681, Train Acc: 92.17%\n",
      "Val Loss: 0.3745, Val Acc: 94.60%\n",
      "Learning Rate: 0.001000\n",
      "------------------------------------------------------------\n",
      "Epoch 3/30\n"
     ]
    },
    {
     "name": "stderr",
     "output_type": "stream",
     "text": [
      "Training: 100%|██████████| 432/432 [00:51<00:00,  8.32it/s, loss=0.3535, acc=94.70%]\n",
      "Validating: 100%|██████████| 48/48 [00:03<00:00, 14.12it/s, loss=0.3821, acc=95.51%]\n"
     ]
    },
    {
     "name": "stdout",
     "output_type": "stream",
     "text": [
      "Train Loss: 0.3795, Train Acc: 94.70%\n",
      "Val Loss: 0.3447, Val Acc: 95.51%\n",
      "Learning Rate: 0.001000\n",
      "------------------------------------------------------------\n",
      "Epoch 4/30\n"
     ]
    },
    {
     "name": "stderr",
     "output_type": "stream",
     "text": [
      "Training: 100%|██████████| 432/432 [00:51<00:00,  8.42it/s, loss=0.2570, acc=96.35%]\n",
      "Validating: 100%|██████████| 48/48 [00:02<00:00, 17.05it/s, loss=0.3305, acc=95.38%]\n"
     ]
    },
    {
     "name": "stdout",
     "output_type": "stream",
     "text": [
      "Train Loss: 0.3240, Train Acc: 96.35%\n",
      "Val Loss: 0.3286, Val Acc: 95.38%\n",
      "Learning Rate: 0.001000\n",
      "------------------------------------------------------------\n",
      "Epoch 5/30\n"
     ]
    },
    {
     "name": "stderr",
     "output_type": "stream",
     "text": [
      "Training: 100%|██████████| 432/432 [00:54<00:00,  7.95it/s, loss=0.2372, acc=96.75%]\n",
      "Validating: 100%|██████████| 48/48 [00:03<00:00, 15.81it/s, loss=0.3189, acc=95.77%]\n"
     ]
    },
    {
     "name": "stdout",
     "output_type": "stream",
     "text": [
      "Train Loss: 0.3044, Train Acc: 96.75%\n",
      "Val Loss: 0.3224, Val Acc: 95.77%\n",
      "Learning Rate: 0.001000\n",
      "------------------------------------------------------------\n",
      "Epoch 6/30\n"
     ]
    },
    {
     "name": "stderr",
     "output_type": "stream",
     "text": [
      "Training: 100%|██████████| 432/432 [00:51<00:00,  8.40it/s, loss=0.2661, acc=96.95%]\n",
      "Validating: 100%|██████████| 48/48 [00:02<00:00, 17.13it/s, loss=0.3119, acc=94.86%]\n"
     ]
    },
    {
     "name": "stdout",
     "output_type": "stream",
     "text": [
      "Train Loss: 0.2959, Train Acc: 96.95%\n",
      "Val Loss: 0.3782, Val Acc: 94.86%\n",
      "Learning Rate: 0.001000\n",
      "------------------------------------------------------------\n",
      "Epoch 7/30\n"
     ]
    },
    {
     "name": "stderr",
     "output_type": "stream",
     "text": [
      "Training: 100%|██████████| 432/432 [00:51<00:00,  8.41it/s, loss=0.2298, acc=97.30%]\n",
      "Validating: 100%|██████████| 48/48 [00:02<00:00, 17.33it/s, loss=0.2596, acc=94.27%]\n"
     ]
    },
    {
     "name": "stdout",
     "output_type": "stream",
     "text": [
      "Train Loss: 0.2693, Train Acc: 97.30%\n",
      "Val Loss: 0.4154, Val Acc: 94.27%\n",
      "Learning Rate: 0.001000\n",
      "------------------------------------------------------------\n",
      "Epoch 8/30\n"
     ]
    },
    {
     "name": "stderr",
     "output_type": "stream",
     "text": [
      "Training: 100%|██████████| 432/432 [00:51<00:00,  8.35it/s, loss=0.2484, acc=97.64%]\n",
      "Validating: 100%|██████████| 48/48 [00:03<00:00, 15.06it/s, loss=0.2831, acc=96.42%]\n"
     ]
    },
    {
     "name": "stdout",
     "output_type": "stream",
     "text": [
      "Train Loss: 0.2620, Train Acc: 97.64%\n",
      "Val Loss: 0.2956, Val Acc: 96.42%\n",
      "Learning Rate: 0.001000\n",
      "------------------------------------------------------------\n",
      "Epoch 9/30\n"
     ]
    },
    {
     "name": "stderr",
     "output_type": "stream",
     "text": [
      "Training: 100%|██████████| 432/432 [00:51<00:00,  8.45it/s, loss=0.1958, acc=98.28%]\n",
      "Validating: 100%|██████████| 48/48 [00:02<00:00, 18.46it/s, loss=0.2442, acc=97.33%]\n"
     ]
    },
    {
     "name": "stdout",
     "output_type": "stream",
     "text": [
      "Train Loss: 0.2346, Train Acc: 98.28%\n",
      "Val Loss: 0.2753, Val Acc: 97.33%\n",
      "Learning Rate: 0.001000\n",
      "------------------------------------------------------------\n",
      "Epoch 10/30\n"
     ]
    },
    {
     "name": "stderr",
     "output_type": "stream",
     "text": [
      "Training: 100%|██████████| 432/432 [00:50<00:00,  8.59it/s, loss=0.1868, acc=98.71%]\n",
      "Validating: 100%|██████████| 48/48 [00:02<00:00, 18.56it/s, loss=0.2457, acc=97.20%]\n"
     ]
    },
    {
     "name": "stdout",
     "output_type": "stream",
     "text": [
      "Train Loss: 0.2112, Train Acc: 98.71%\n",
      "Val Loss: 0.2782, Val Acc: 97.20%\n",
      "Learning Rate: 0.001000\n",
      "------------------------------------------------------------\n",
      "Epoch 11/30\n"
     ]
    },
    {
     "name": "stderr",
     "output_type": "stream",
     "text": [
      "Training: 100%|██████████| 432/432 [00:50<00:00,  8.48it/s, loss=0.2298, acc=98.19%]\n",
      "Validating: 100%|██████████| 48/48 [00:02<00:00, 18.74it/s, loss=0.2964, acc=97.01%]\n"
     ]
    },
    {
     "name": "stdout",
     "output_type": "stream",
     "text": [
      "Train Loss: 0.2275, Train Acc: 98.19%\n",
      "Val Loss: 0.2756, Val Acc: 97.01%\n",
      "Learning Rate: 0.001000\n",
      "------------------------------------------------------------\n",
      "Epoch 12/30\n"
     ]
    },
    {
     "name": "stderr",
     "output_type": "stream",
     "text": [
      "Training: 100%|██████████| 432/432 [00:50<00:00,  8.49it/s, loss=0.1812, acc=98.66%]\n",
      "Validating: 100%|██████████| 48/48 [00:02<00:00, 18.67it/s, loss=0.1948, acc=97.66%]\n"
     ]
    },
    {
     "name": "stdout",
     "output_type": "stream",
     "text": [
      "Train Loss: 0.2023, Train Acc: 98.66%\n",
      "Val Loss: 0.2702, Val Acc: 97.66%\n",
      "Learning Rate: 0.001000\n",
      "------------------------------------------------------------\n",
      "Epoch 13/30\n"
     ]
    },
    {
     "name": "stderr",
     "output_type": "stream",
     "text": [
      "Training: 100%|██████████| 432/432 [00:50<00:00,  8.52it/s, loss=0.1818, acc=98.81%]\n",
      "Validating: 100%|██████████| 48/48 [00:02<00:00, 17.07it/s, loss=0.3098, acc=95.83%]\n"
     ]
    },
    {
     "name": "stdout",
     "output_type": "stream",
     "text": [
      "Train Loss: 0.1980, Train Acc: 98.81%\n",
      "Val Loss: 0.3051, Val Acc: 95.83%\n",
      "Learning Rate: 0.001000\n",
      "------------------------------------------------------------\n",
      "Epoch 14/30\n"
     ]
    },
    {
     "name": "stderr",
     "output_type": "stream",
     "text": [
      "Training: 100%|██████████| 432/432 [00:50<00:00,  8.49it/s, loss=0.1740, acc=98.53%]\n",
      "Validating: 100%|██████████| 48/48 [00:02<00:00, 19.12it/s, loss=0.2450, acc=96.42%]\n"
     ]
    },
    {
     "name": "stdout",
     "output_type": "stream",
     "text": [
      "Train Loss: 0.2008, Train Acc: 98.53%\n",
      "Val Loss: 0.3169, Val Acc: 96.42%\n",
      "Learning Rate: 0.001000\n",
      "------------------------------------------------------------\n",
      "Epoch 15/30\n"
     ]
    },
    {
     "name": "stderr",
     "output_type": "stream",
     "text": [
      "Training: 100%|██████████| 432/432 [00:51<00:00,  8.44it/s, loss=0.1242, acc=98.92%]\n",
      "Validating: 100%|██████████| 48/48 [00:02<00:00, 18.78it/s, loss=0.2224, acc=97.27%]\n"
     ]
    },
    {
     "name": "stdout",
     "output_type": "stream",
     "text": [
      "Train Loss: 0.1803, Train Acc: 98.92%\n",
      "Val Loss: 0.2726, Val Acc: 97.27%\n",
      "Learning Rate: 0.001000\n",
      "------------------------------------------------------------\n",
      "Early stopping triggered after 15 epochs\n"
     ]
    }
   ],
   "source": [
    "import os\n",
    "import torch\n",
    "import torch.nn as nn\n",
    "import torch.optim as optim\n",
    "import pandas as pd\n",
    "from PIL import Image\n",
    "from torch.utils.data import Dataset, DataLoader, WeightedRandomSampler, random_split\n",
    "from torchvision import transforms, models\n",
    "from torchvision.models import EfficientNet_V2_S_Weights\n",
    "from torch.optim.lr_scheduler import ReduceLROnPlateau\n",
    "from tqdm import tqdm\n",
    "\n",
    "\n",
    "\n",
    "def train_model(model, train_loader, val_loader, criterion, optimizer, scheduler, num_epochs, patience=5):\n",
    "    device = torch.device(\"cuda:0\" if torch.cuda.is_available() else \"cpu\")\n",
    "    model.to(device)\n",
    "    \n",
    "    best_val_loss = float('inf')\n",
    "    epochs_no_improve = 0\n",
    "    best_model = None\n",
    "    \n",
    "    for epoch in range(num_epochs):\n",
    "        print(f'Epoch {epoch+1}/{num_epochs}')\n",
    "        \n",
    "        # Training phase\n",
    "        model.train()\n",
    "        train_loss, train_acc = run_epoch(model, train_loader, criterion, optimizer, device, is_training=True)\n",
    "        \n",
    "        # Validation phase\n",
    "        model.eval()\n",
    "        val_loss, val_acc = run_epoch(model, val_loader, criterion, optimizer, device, is_training=False)\n",
    "        \n",
    "        # Learning rate scheduler step\n",
    "        scheduler.step(val_loss)\n",
    "\n",
    "        print(f'Train Loss: {train_loss:.4f}, Train Acc: {train_acc:.2f}%')\n",
    "        print(f'Val Loss: {val_loss:.4f}, Val Acc: {val_acc:.2f}%')\n",
    "        print(f'Learning Rate: {optimizer.param_groups[0][\"lr\"]:.6f}')\n",
    "        print('-' * 60)\n",
    "\n",
    "        # Early stopping check\n",
    "        if val_loss < best_val_loss:\n",
    "            best_val_loss = val_loss\n",
    "            epochs_no_improve = 0\n",
    "            best_model = model.state_dict()\n",
    "        else:\n",
    "            epochs_no_improve += 1\n",
    "\n",
    "        if epochs_no_improve == patience:\n",
    "            print(f'Early stopping triggered after {epoch + 1} epochs')\n",
    "            model.load_state_dict(best_model)\n",
    "            break\n",
    "\n",
    "    return model\n",
    "\n",
    "def run_epoch(model, data_loader, criterion, optimizer, device, is_training=True):\n",
    "    running_loss = 0.0\n",
    "    correct = 0\n",
    "    total = 0\n",
    "\n",
    "    # Create progress bar\n",
    "    progress_bar = tqdm(data_loader, desc=\"Training\" if is_training else \"Validating\")\n",
    "\n",
    "    for inputs, stability_labels, aux_labels in progress_bar:\n",
    "        inputs, stability_labels, aux_labels = inputs.to(device), stability_labels.to(device), aux_labels.to(device)\n",
    "        \n",
    "        if is_training:\n",
    "            optimizer.zero_grad()\n",
    "        \n",
    "        stability, shapeset, type_, instability_type, cam_angle = model(inputs)\n",
    "        \n",
    "        # Calculate losses for each task\n",
    "        stability_loss = criterion['stability'](stability, stability_labels)\n",
    "        shapeset_loss = criterion['shapeset'](shapeset, aux_labels[:, 0].long())\n",
    "        type_loss = criterion['type'](type_, aux_labels[:, 1].long())\n",
    "        instability_type_loss = criterion['instability_type'](instability_type, aux_labels[:, 2].long())\n",
    "        cam_angle_loss = criterion['cam_angle'](cam_angle.squeeze(), aux_labels[:, 3])\n",
    "        \n",
    "        # Combine losses\n",
    "        loss = stability_loss + 0.2 * (shapeset_loss + type_loss + instability_type_loss + cam_angle_loss)\n",
    "        \n",
    "        if is_training:\n",
    "            loss.backward()\n",
    "            optimizer.step()\n",
    "        \n",
    "        running_loss += loss.item() * inputs.size(0)\n",
    "        _, predicted = stability.max(1)\n",
    "        total += stability_labels.size(0)\n",
    "        correct += predicted.eq(stability_labels).sum().item()\n",
    "\n",
    "        # Update progress bar\n",
    "        progress_bar.set_postfix({\n",
    "            'loss': f'{loss.item():.4f}',\n",
    "            'acc': f'{100. * correct / total:.2f}%'\n",
    "        })\n",
    "    \n",
    "    epoch_loss = running_loss / len(data_loader.dataset)\n",
    "    epoch_acc = 100. * correct / total\n",
    "\n",
    "    return epoch_loss, epoch_acc\n",
    "\n",
    "def main():\n",
    "    # Load pre-calculated dataset statistics\n",
    "    stats = torch.load('dataset_stats.pth')\n",
    "    mean, std = stats['mean'], stats['std']\n",
    "    print(f\"Loaded dataset mean: {mean}\")\n",
    "    print(f\"Loaded dataset std: {std}\")\n",
    "\n",
    "    # Create transform with loaded normalization\n",
    "    transform = transforms.Compose([\n",
    "        transforms.ToTensor(),\n",
    "        transforms.Normalize(mean=mean.tolist(), std=std.tolist()),\n",
    "    ])\n",
    "\n",
    "    # Create full dataset with augmentation and correct normalization\n",
    "    full_dataset = StabilityDataset(\n",
    "        csv_file='./COMP90086_2024_Project_train/train.csv', \n",
    "        img_dir='./COMP90086_2024_Project_train/train', \n",
    "        transform=transform,\n",
    "        augment=True\n",
    "    )\n",
    "\n",
    "    # Split dataset into train and validation\n",
    "    dataset_size = len(full_dataset)\n",
    "    val_ratio = 0.05\n",
    "    print(f'Splitting into {(1-val_ratio)} : {val_ratio} test/train split')\n",
    "    val_size = int(val_ratio * dataset_size)\n",
    "    train_size = dataset_size - val_size\n",
    "    train_dataset, val_dataset = random_split(full_dataset, [train_size, val_size])\n",
    "\n",
    "    # Create data loaders\n",
    "    train_loader = DataLoader(train_dataset, batch_size=32, num_workers=4)\n",
    "    val_loader = DataLoader(val_dataset, batch_size=32, shuffle=False, num_workers=4)\n",
    "\n",
    "    model = MultiTaskStabilityPredictor(\n",
    "        num_stability_classes=6, \n",
    "        num_shapeset_classes=len(full_dataset.shapeset_map),\n",
    "        num_type_classes=len(full_dataset.type_map),\n",
    "        num_instability_type_classes=len(full_dataset.instability_type_map)\n",
    "    )\n",
    "    \n",
    "    criterion = {\n",
    "        'stability': nn.CrossEntropyLoss(),\n",
    "        'shapeset': nn.CrossEntropyLoss(),\n",
    "        'type': nn.CrossEntropyLoss(),\n",
    "        'instability_type': nn.CrossEntropyLoss(),\n",
    "        'cam_angle': nn.MSELoss()\n",
    "    }\n",
    "    \n",
    "    optimizer = optim.Adam(model.parameters(), lr=0.001)\n",
    "    scheduler = ReduceLROnPlateau(optimizer, mode='min', factor=0.1, patience=3, verbose=True)\n",
    "\n",
    "    model = train_model(model, train_loader, val_loader, criterion, optimizer, scheduler, num_epochs=30, patience=3)\n",
    "\n",
    "    torch.save(model.state_dict(), 'multitask_stability_predictor.pth')\n",
    "\n",
    "if __name__ == \"__main__\":\n",
    "    main()"
   ]
  },
  {
   "cell_type": "code",
   "execution_count": 35,
   "id": "992f5485-89ca-4ea2-b908-c3e5d7e76012",
   "metadata": {},
   "outputs": [
    {
     "name": "stderr",
     "output_type": "stream",
     "text": [
      "Predicting: 100%|██████████| 60/60 [00:02<00:00, 23.35it/s]"
     ]
    },
    {
     "name": "stdout",
     "output_type": "stream",
     "text": [
      "Predictions saved to test_predictions.csv\n"
     ]
    },
    {
     "name": "stderr",
     "output_type": "stream",
     "text": [
      "\n"
     ]
    }
   ],
   "source": [
    "class TestDataset(Dataset):\n",
    "    def __init__(self, csv_file, img_dir, transform=None):\n",
    "        self.test_data = pd.read_csv(csv_file)\n",
    "        self.img_dir = img_dir\n",
    "        self.transform = transform\n",
    "\n",
    "    def __len__(self):\n",
    "        return len(self.test_data)\n",
    "\n",
    "    def __getitem__(self, idx):\n",
    "        img_name = str(self.test_data.iloc[idx, 0])  # Assuming the image ID is in the first column\n",
    "        img_path = os.path.join(self.img_dir, img_name)\n",
    "        if not os.path.exists(img_path):\n",
    "            img_path = os.path.join(self.img_dir, f\"{img_name}.jpg\")\n",
    "        \n",
    "        image = Image.open(img_path).convert('RGB')\n",
    "        \n",
    "        if self.transform:\n",
    "            image = self.transform(image)\n",
    "\n",
    "        return image, img_name\n",
    "\n",
    "def predict_test_set(model, test_loader, device):\n",
    "    model.eval()\n",
    "    predictions = []\n",
    "\n",
    "    with torch.no_grad():\n",
    "        for inputs, img_names in tqdm(test_loader, desc=\"Predicting\"):\n",
    "            inputs = inputs.to(device)\n",
    "            stability, _, _, _, _ = model(inputs)\n",
    "            _, predicted = stability.max(1)\n",
    "            \n",
    "            for img_name, pred in zip(img_names, predicted):\n",
    "                predictions.append((img_name, pred.item() + 1))  # Add 1 to convert back to 1-6 range\n",
    "\n",
    "    return predictions\n",
    "\n",
    "def save_predictions_to_csv(predictions, output_file):\n",
    "    df = pd.DataFrame(predictions, columns=['id', 'stable_height'])\n",
    "    df.to_csv(output_file, index=False)\n",
    "    print(f\"Predictions saved to {output_file}\")\n",
    "\n",
    "def predict_and_save():\n",
    "    # Load the trained model\n",
    "    device = torch.device(\"cuda:0\" if torch.cuda.is_available() else \"cpu\")\n",
    "    \n",
    "    # Create a temporary dataset to get the number of classes\n",
    "    temp_dataset = StabilityDataset(\n",
    "        csv_file='./COMP90086_2024_Project_train/train.csv',\n",
    "        img_dir='./COMP90086_2024_Project_train/train',\n",
    "        transform=None,\n",
    "        augment=False\n",
    "    )\n",
    "    \n",
    "    model = MultiTaskStabilityPredictor(\n",
    "        num_stability_classes=6, \n",
    "        num_shapeset_classes=len(temp_dataset.shapeset_map),\n",
    "        num_type_classes=len(temp_dataset.type_map),\n",
    "        num_instability_type_classes=len(temp_dataset.instability_type_map)\n",
    "    )\n",
    "    model.load_state_dict(torch.load('multitask_stability_predictor.pth'))\n",
    "    model.to(device)\n",
    "\n",
    "    # Load pre-calculated dataset statistics\n",
    "    stats = torch.load('dataset_stats.pth')\n",
    "    mean, std = stats['mean'], stats['std']\n",
    "\n",
    "    # Create transform for test set\n",
    "    test_transform = transforms.Compose([\n",
    "        transforms.ToTensor(),\n",
    "        transforms.Normalize(mean=mean.tolist(), std=std.tolist()),\n",
    "    ])\n",
    "\n",
    "    # Create test dataset and dataloader\n",
    "    test_dataset = TestDataset(\n",
    "        csv_file='./COMP90086_2024_Project_test/test.csv',\n",
    "        img_dir='./COMP90086_2024_Project_test/test',\n",
    "        transform=test_transform\n",
    "    )\n",
    "    test_loader = DataLoader(test_dataset, batch_size=32, shuffle=False, num_workers=4)\n",
    "\n",
    "    # Predict on test set\n",
    "    predictions = predict_test_set(model, test_loader, device)\n",
    "\n",
    "    # Save predictions to CSV\n",
    "    save_predictions_to_csv(predictions, 'test_predictions.csv')\n",
    "\n",
    "\n",
    "predict_and_save()\n"
   ]
  }
 ],
 "metadata": {
  "kernelspec": {
   "display_name": "Python 3 (ipykernel)",
   "language": "python",
   "name": "python3"
  },
  "language_info": {
   "codemirror_mode": {
    "name": "ipython",
    "version": 3
   },
   "file_extension": ".py",
   "mimetype": "text/x-python",
   "name": "python",
   "nbconvert_exporter": "python",
   "pygments_lexer": "ipython3",
   "version": "3.10.12"
  }
 },
 "nbformat": 4,
 "nbformat_minor": 5
}
