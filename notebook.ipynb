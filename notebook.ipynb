{
 "cells": [
  {
   "cell_type": "code",
   "execution_count": 1,
   "metadata": {},
   "outputs": [],
   "source": [
    "%load_ext autoreload\n",
    "%autoreload 2\n",
    "\n",
    "from final_model import train_and_save"
   ]
  },
  {
   "cell_type": "markdown",
   "metadata": {},
   "source": [
    "<h2>Notes for Trevor</h2>\n",
    "If you want to load a new training_test split (or if you change parameters like augmentation or balance), then select False for use_existing_split\n",
    "\n",
    "Check the final_model folder for outputs. If you want to train on the entire training dataset you should first run it on the train/test split (which will save the training params) and THEN run it on the whole thing. You can adjust the full model's training params in final_model/training_params.\n",
    "\n",
    "\n",
    "Every time you run a model on the train/test split it will save all of the analytical data I think we need, as well as the config settings in model_results.csv"
   ]
  },
  {
   "cell_type": "markdown",
   "metadata": {},
   "source": [
    "<h2>Set config values</h2>"
   ]
  },
  {
   "cell_type": "code",
   "execution_count": 2,
   "metadata": {},
   "outputs": [],
   "source": [
    "config = {\n",
    "    # Files\n",
    "    'output_folder': './final_model',\n",
    "    'train_csv': './COMP90086_2024_Project_train/train.csv',\n",
    "    'train_img_dir': './preprocessed_images/train',\n",
    "    'test_csv': './final_model/full_predictions.csv',\n",
    "    'test_img_dir': './preprocessed_images/test',\n",
    "    'training_params_file': 'training_params.json',\n",
    "\n",
    "    # Training parameters\n",
    "    'model': 'EfficientAttentionNet',\n",
    "    'target_column': 'stable_height',\n",
    "    'additional_columns': [], # You'll need to train these first if you want to use\n",
    "    'balance_dataset': False,\n",
    "    'use_augmentation': True,\n",
    "    'use_quantized': False,\n",
    "    'val_ratio': 0.1,\n",
    "    'batch_size': 64,\n",
    "    'dropout_rate': 0.3,\n",
    "    'learning_rate': 0.001,\n",
    "    'lr_factor': 0.1,\n",
    "    'lr_patience': 2,\n",
    "    'freeze_layers': False,\n",
    "    'num_epochs': 30,\n",
    "    'use_existing_split': True, # See above\n",
    "    'early_stopping_patience': 3,\n",
    "    'weight_decay': 1e-4 # L2\n",
    "}"
   ]
  },
  {
   "cell_type": "markdown",
   "metadata": {},
   "source": [
    "<h2>Train with validation set</h2>"
   ]
  },
  {
   "cell_type": "code",
   "execution_count": 3,
   "metadata": {},
   "outputs": [
    {
     "name": "stdout",
     "output_type": "stream",
     "text": [
      "Loading existing split and stats from ./final_model/split_and_stats.json\n",
      "Model: EfficientAttentionNet\n",
      "Using quantized images: False\n",
      "Additional features: \n",
      "Target feature: stable_height (6 categories)\n",
      "Training with validation...\n"
     ]
    },
    {
     "name": "stderr",
     "output_type": "stream",
     "text": [
      "/workspace/COMP90086_Project/.venv/lib/python3.10/site-packages/torch/optim/lr_scheduler.py:60: UserWarning: The verbose parameter is deprecated. Please use get_last_lr() to access the learning rate.\n",
      "  warnings.warn(\n"
     ]
    },
    {
     "name": "stdout",
     "output_type": "stream",
     "text": [
      "Epoch 1/1\n"
     ]
    },
    {
     "data": {
      "application/vnd.jupyter.widget-view+json": {
       "model_id": "f383dcdda5e1415b9de70c8b78c91fdb",
       "version_major": 2,
       "version_minor": 0
      },
      "text/plain": [
       "Training:   0%|          | 0/108 [00:00<?, ?it/s]"
      ]
     },
     "metadata": {},
     "output_type": "display_data"
    },
    {
     "data": {
      "application/vnd.jupyter.widget-view+json": {
       "model_id": "da5f906d58904adb96cd9d2dd3fe1242",
       "version_major": 2,
       "version_minor": 0
      },
      "text/plain": [
       "Validating:   0%|          | 0/3 [00:00<?, ?it/s]"
      ]
     },
     "metadata": {},
     "output_type": "display_data"
    },
    {
     "name": "stdout",
     "output_type": "stream",
     "text": [
      "Train Loss: 1.4781, Train Acc: 35.07%\n",
      "Val Loss: 1.3856, Val Acc: 43.23%\n",
      "Learning Rate: 0.001000\n",
      "------------------------------------------------------------\n",
      "Training parameters saved to training_params.json\n",
      "Results recorded in ./final_model/model_results.csv\n"
     ]
    }
   ],
   "source": [
    "train_and_save(config, run_predictions=False)"
   ]
  },
  {
   "cell_type": "markdown",
   "metadata": {},
   "source": [
    "<h2>Train on whole set and predict</h1>"
   ]
  },
  {
   "cell_type": "code",
   "execution_count": null,
   "metadata": {},
   "outputs": [],
   "source": [
    "train_and_save(config, use_full_dataset=True, run_predictions=True)"
   ]
  },
  {
   "cell_type": "code",
   "execution_count": null,
   "metadata": {},
   "outputs": [
    {
     "name": "stdout",
     "output_type": "stream",
     "text": [
      "Loading existing split and stats from ./final_model/split_and_stats.json\n",
      "Model: EfficientAttentionNet\n",
      "Using quantized images: False\n",
      "Additional features: \n",
      "Target feature: shapeset (2 categories)\n"
     ]
    },
    {
     "name": "stderr",
     "output_type": "stream",
     "text": [
      "/workspace/COMP90086_Project/.venv/lib/python3.10/site-packages/torch/optim/lr_scheduler.py:60: UserWarning: The verbose parameter is deprecated. Please use get_last_lr() to access the learning rate.\n",
      "  warnings.warn(\n"
     ]
    },
    {
     "name": "stdout",
     "output_type": "stream",
     "text": [
      "Epoch 1/30\n"
     ]
    },
    {
     "data": {
      "application/vnd.jupyter.widget-view+json": {
       "model_id": "b56291ae04d241a78097285f10fe6838",
       "version_major": 2,
       "version_minor": 0
      },
      "text/plain": [
       "Training:   0%|          | 0/432 [00:00<?, ?it/s]"
      ]
     },
     "metadata": {},
     "output_type": "display_data"
    },
    {
     "data": {
      "application/vnd.jupyter.widget-view+json": {
       "model_id": "2ac696e254254bfb9a13a117f851a8dd",
       "version_major": 2,
       "version_minor": 0
      },
      "text/plain": [
       "Validating:   0%|          | 0/12 [00:00<?, ?it/s]"
      ]
     },
     "metadata": {},
     "output_type": "display_data"
    },
    {
     "name": "stdout",
     "output_type": "stream",
     "text": [
      "Train Loss: 0.0824, Train Acc: 97.06%\n",
      "Val Loss: 0.1050, Val Acc: 96.22%\n",
      "Learning Rate: 0.001000\n",
      "------------------------------------------------------------\n",
      "Epoch 2/30\n"
     ]
    },
    {
     "data": {
      "application/vnd.jupyter.widget-view+json": {
       "model_id": "a168406f8cc74f0fa91fbde881d186d5",
       "version_major": 2,
       "version_minor": 0
      },
      "text/plain": [
       "Training:   0%|          | 0/432 [00:00<?, ?it/s]"
      ]
     },
     "metadata": {},
     "output_type": "display_data"
    },
    {
     "data": {
      "application/vnd.jupyter.widget-view+json": {
       "model_id": "e5682853e7894dd99b2559b4637d6c63",
       "version_major": 2,
       "version_minor": 0
      },
      "text/plain": [
       "Validating:   0%|          | 0/12 [00:00<?, ?it/s]"
      ]
     },
     "metadata": {},
     "output_type": "display_data"
    },
    {
     "name": "stdout",
     "output_type": "stream",
     "text": [
      "Train Loss: 0.0469, Train Acc: 98.26%\n",
      "Val Loss: 0.0736, Val Acc: 97.53%\n",
      "Learning Rate: 0.001000\n",
      "------------------------------------------------------------\n",
      "Epoch 3/30\n"
     ]
    },
    {
     "data": {
      "application/vnd.jupyter.widget-view+json": {
       "model_id": "dbdcf7ec26d04e06a04edf93017f4bd2",
       "version_major": 2,
       "version_minor": 0
      },
      "text/plain": [
       "Training:   0%|          | 0/432 [00:00<?, ?it/s]"
      ]
     },
     "metadata": {},
     "output_type": "display_data"
    }
   ],
   "source": [
    "for feature in ['shapeset', 'instability_type', 'type', 'cam_angle']:\n",
    "    config['target_column'] = feature\n",
    "    train_and_save(config, run_predictions=False)\n",
    "    train_and_save(config, use_full_dataset=True, run_predictions=True)"
   ]
  }
 ],
 "metadata": {
  "kernelspec": {
   "display_name": ".venv",
   "language": "python",
   "name": "python3"
  },
  "language_info": {
   "codemirror_mode": {
    "name": "ipython",
    "version": 3
   },
   "file_extension": ".py",
   "mimetype": "text/x-python",
   "name": "python",
   "nbconvert_exporter": "python",
   "pygments_lexer": "ipython3",
   "version": "3.10.12"
  }
 },
 "nbformat": 4,
 "nbformat_minor": 2
}
