{
 "cells": [
  {
   "cell_type": "code",
   "execution_count": null,
   "metadata": {},
   "outputs": [],
   "source": [
    "%load_ext autoreload\n",
    "%autoreload 2\n",
    "\n",
    "from final_model import train_and_save"
   ]
  },
  {
   "cell_type": "markdown",
   "metadata": {},
   "source": [
    "<h2>Notes for Trevor</h2>\n",
    "If you want to load a new training_test split (or if you change parameters like augmentation or balance), then select False for use_existing_split\n",
    "\n",
    "Balance now uses augmented images to balance the dataset (so augmentation is ignored)\n",
    "\n",
    "Check the final_model folder for outputs. If you want to train on the entire training dataset you should first run it on the train/test split (which will save the training params) and THEN run it on the whole thing. You can adjust the full model's training params in final_model/training_params.\n",
    "\n",
    "\n",
    "Every time you run a model on the train/test split it will save all of the analytical data I think we need, as well as the config settings in model_results.csv"
   ]
  },
  {
   "cell_type": "markdown",
   "metadata": {},
   "source": [
    "<h2>Set config values</h2>"
   ]
  },
  {
   "cell_type": "code",
   "execution_count": 64,
   "metadata": {},
   "outputs": [],
   "source": [
    "config = {\n",
    "    # Files\n",
    "    'output_folder': './final_model',\n",
    "    'train_csv': './COMP90086_2024_Project_train/train.csv',\n",
    "    'train_img_dir': './preprocessed_images/train',\n",
    "    'test_csv': './final_model/full_predictions.csv',\n",
    "    'test_img_dir': './preprocessed_images/test',\n",
    "    'training_params_file': 'training_params.json',\n",
    "\n",
    "    # Training parameters\n",
    "    'model': 'EfficientAttentionNet',\n",
    "    'target_column': 'stable_height',\n",
    "    'additional_columns': [], # You'll need to train these first if you want to use\n",
    "    'balance_dataset': False,\n",
    "    'use_augmentation': True,\n",
    "    'use_quantized': False,\n",
    "    'val_ratio': 0.1,\n",
    "    'batch_size': 48,\n",
    "    'dropout_rate': 0.3,\n",
    "    'learning_rate': 0.002,\n",
    "    'lr_factor': 0.5,\n",
    "    'lr_patience': 1,\n",
    "    'freeze_layers': False,\n",
    "    'num_epochs': 1,\n",
    "    'use_existing_split': True, # See above\n",
    "    'early_stopping_patience': 3,\n",
    "    'weight_decay': 1e-6 # L2\n",
    "}"
   ]
  },
  {
   "cell_type": "markdown",
   "metadata": {},
   "source": [
    "<h2>Train with validation set</h2>"
   ]
  },
  {
   "cell_type": "code",
   "execution_count": null,
   "metadata": {},
   "outputs": [],
   "source": [
    "train_and_save(config)"
   ]
  },
  {
   "cell_type": "markdown",
   "metadata": {},
   "source": []
  },
  {
   "cell_type": "markdown",
   "metadata": {},
   "source": [
    "<h2>Train on whole set and predict</h1>"
   ]
  },
  {
   "cell_type": "code",
   "execution_count": null,
   "metadata": {},
   "outputs": [],
   "source": [
    "model_id = \"bd22361c-80ac-451c-a429-86c1b199ab0d\"\n",
    "\n",
    "train_and_save(config, use_full_dataset=True, do_predictions=True, model_id = model_id)"
   ]
  },
  {
   "cell_type": "code",
   "execution_count": null,
   "metadata": {},
   "outputs": [],
   "source": [
    "for feature in ['shapeset', 'instability_type', 'type', 'cam_angle']:\n",
    "    config['target_column'] = feature\n",
    "    train_and_save(config, do_predictions=False)\n",
    "    train_and_save(config, use_full_dataset=True, do_predictions=True)"
   ]
  }
 ],
 "metadata": {
  "kernelspec": {
   "display_name": ".venv",
   "language": "python",
   "name": "python3"
  },
  "language_info": {
   "codemirror_mode": {
    "name": "ipython",
    "version": 3
   },
   "file_extension": ".py",
   "mimetype": "text/x-python",
   "name": "python",
   "nbconvert_exporter": "python",
   "pygments_lexer": "ipython3",
   "version": "3.10.12"
  }
 },
 "nbformat": 4,
 "nbformat_minor": 2
}
