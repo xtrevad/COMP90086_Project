{
 "cells": [
  {
   "cell_type": "code",
   "execution_count": 1,
   "metadata": {},
   "outputs": [
    {
     "name": "stderr",
     "output_type": "stream",
     "text": [
      "Processing images:   0%|          | 0/7680 [00:00<?, ?it/s]/tmp/ipykernel_7842/848516407.py:23: FutureWarning: Series.__getitem__ treating keys as positions is deprecated. In a future version, integer keys will always be treated as labels (consistent with DataFrame behavior). To access a value by position, use `ser.iloc[pos]`\n",
      "  img_name = str(row[0])\n",
      "Processing images: 100%|██████████| 7680/7680 [47:41<00:00,  2.68it/s]\n"
     ]
    },
    {
     "name": "stdout",
     "output_type": "stream",
     "text": [
      "Preprocessing complete. Images saved to ./preprocessed_images/train\n",
      "Quantized images saved to ./preprocessed_images/train/quantized\n"
     ]
    },
    {
     "name": "stderr",
     "output_type": "stream",
     "text": [
      "Processing images:   0%|          | 0/1920 [00:00<?, ?it/s]/tmp/ipykernel_7842/848516407.py:23: FutureWarning: Series.__getitem__ treating keys as positions is deprecated. In a future version, integer keys will always be treated as labels (consistent with DataFrame behavior). To access a value by position, use `ser.iloc[pos]`\n",
      "  img_name = str(row[0])\n",
      "Processing images: 100%|██████████| 1920/1920 [03:03<00:00, 10.49it/s]"
     ]
    },
    {
     "name": "stdout",
     "output_type": "stream",
     "text": [
      "Preprocessing complete. Images saved to ./preprocessed_images/test\n",
      "Quantized images saved to ./preprocessed_images/test/quantized\n"
     ]
    },
    {
     "name": "stderr",
     "output_type": "stream",
     "text": [
      "\n"
     ]
    }
   ],
   "source": [
    "import os\n",
    "import pandas as pd\n",
    "import cv2\n",
    "import numpy as np\n",
    "from tqdm import tqdm\n",
    "\n",
    "def colour_quantisation(image, k=20):\n",
    "    pixels = np.float32(image.reshape(-1, 3))\n",
    "    criteria = (cv2.TERM_CRITERIA_EPS + cv2.TERM_CRITERIA_MAX_ITER, 10, 1.0)\n",
    "    _, labels, palette = cv2.kmeans(pixels, k, None, criteria, 10, cv2.KMEANS_RANDOM_CENTERS)\n",
    "    quantised = np.uint8(palette)[labels.flatten()]\n",
    "    quantised = quantised.reshape(image.shape)\n",
    "    return quantised\n",
    "\n",
    "def preprocess_images(csv_file, img_dir, output_dir, is_test=False, image_size=224, zoom_proportion=0.15, quantize_k=20):\n",
    "    os.makedirs(output_dir, exist_ok=True)\n",
    "    quantized_dir = os.path.join(output_dir, 'quantized')\n",
    "    os.makedirs(quantized_dir, exist_ok=True)\n",
    "\n",
    "    df = pd.read_csv(csv_file)\n",
    "\n",
    "    for idx, row in tqdm(df.iterrows(), total=len(df), desc=\"Processing images\"):\n",
    "        img_name = str(row[0])\n",
    "        img_path = os.path.join(img_dir, img_name)\n",
    "        if not os.path.exists(img_path):\n",
    "            img_path = os.path.join(img_dir, f\"{img_name}.jpg\")\n",
    "\n",
    "        image = cv2.imread(img_path)\n",
    "        image = cv2.cvtColor(image, cv2.COLOR_BGR2RGB)\n",
    "        image = cv2.resize(image, (image_size, image_size), interpolation=cv2.INTER_LINEAR)\n",
    "\n",
    "        # Save original and quantized versions\n",
    "        cv2.imwrite(os.path.join(output_dir, f\"{img_name}_original.jpg\"), cv2.cvtColor(image, cv2.COLOR_RGB2BGR))\n",
    "        quantized = colour_quantisation(image, k=quantize_k)\n",
    "        cv2.imwrite(os.path.join(quantized_dir, f\"{img_name}_quantized.jpg\"), cv2.cvtColor(quantized, cv2.COLOR_RGB2BGR))\n",
    "\n",
    "        if not is_test:\n",
    "            # Create augmented versions only for training images\n",
    "            # Flipped\n",
    "            flipped = cv2.flip(image, 1)\n",
    "            cv2.imwrite(os.path.join(output_dir, f\"{img_name}_flipped.jpg\"), cv2.cvtColor(flipped, cv2.COLOR_RGB2BGR))\n",
    "            flipped_quantized = colour_quantisation(flipped, k=quantize_k)\n",
    "            cv2.imwrite(os.path.join(quantized_dir, f\"{img_name}_flipped_quantized.jpg\"), cv2.cvtColor(flipped_quantized, cv2.COLOR_RGB2BGR))\n",
    "\n",
    "            # Zoomed\n",
    "            height, width = image.shape[:2]\n",
    "            crop_size = int(min(width, height) * (1 - zoom_proportion))\n",
    "            start_x = (width - crop_size) // 2\n",
    "            start_y = (height - crop_size) // 2\n",
    "            zoomed = image[start_y:start_y+crop_size, start_x:start_x+crop_size]\n",
    "            zoomed = cv2.resize(zoomed, (image_size, image_size), interpolation=cv2.INTER_LINEAR)\n",
    "            cv2.imwrite(os.path.join(output_dir, f\"{img_name}_zoomed.jpg\"), cv2.cvtColor(zoomed, cv2.COLOR_RGB2BGR))\n",
    "            zoomed_quantized = colour_quantisation(zoomed, k=quantize_k)\n",
    "            cv2.imwrite(os.path.join(quantized_dir, f\"{img_name}_zoomed_quantized.jpg\"), cv2.cvtColor(zoomed_quantized, cv2.COLOR_RGB2BGR))\n",
    "\n",
    "            # Zoomed and flipped\n",
    "            zoomed_flipped = cv2.flip(zoomed, 1)\n",
    "            cv2.imwrite(os.path.join(output_dir, f\"{img_name}_zoomed_flipped.jpg\"), cv2.cvtColor(zoomed_flipped, cv2.COLOR_RGB2BGR))\n",
    "            zoomed_flipped_quantized = colour_quantisation(zoomed_flipped, k=quantize_k)\n",
    "            cv2.imwrite(os.path.join(quantized_dir, f\"{img_name}_zoomed_flipped_quantized.jpg\"), cv2.cvtColor(zoomed_flipped_quantized, cv2.COLOR_RGB2BGR))\n",
    "\n",
    "    print(f\"Preprocessing complete. Images saved to {output_dir}\")\n",
    "    print(f\"Quantized images saved to {quantized_dir}\")\n",
    "\n",
    "# Example usage\n",
    "if __name__ == \"__main__\":\n",
    "    config = {\n",
    "        'train_csv': './COMP90086_2024_Project_train/train.csv',\n",
    "        'train_img_dir': './COMP90086_2024_Project_train/train',\n",
    "        'train_output_dir': './preprocessed_images/train',\n",
    "        'test_csv': './COMP90086_2024_Project_test/test.csv',\n",
    "        'test_img_dir': './COMP90086_2024_Project_test/test',\n",
    "        'test_output_dir': './preprocessed_images/test',\n",
    "        'image_size': 224,\n",
    "        'zoom_proportion': 0.15,\n",
    "        'quantize_k': 20\n",
    "    }\n",
    "\n",
    "    # Process training images\n",
    "    preprocess_images(\n",
    "        csv_file=config['train_csv'],\n",
    "        img_dir=config['train_img_dir'],\n",
    "        output_dir=config['train_output_dir'],\n",
    "        is_test=False,\n",
    "        image_size=config['image_size'],\n",
    "        zoom_proportion=config['zoom_proportion'],\n",
    "        quantize_k=config['quantize_k']\n",
    "    )\n",
    "\n",
    "    # Process test images\n",
    "    preprocess_images(\n",
    "        csv_file=config['test_csv'],\n",
    "        img_dir=config['test_img_dir'],\n",
    "        output_dir=config['test_output_dir'],\n",
    "        is_test=True,\n",
    "        image_size=config['image_size'],\n",
    "        zoom_proportion=config['zoom_proportion'],\n",
    "        quantize_k=config['quantize_k']\n",
    "    )"
   ]
  }
 ],
 "metadata": {
  "kernelspec": {
   "display_name": ".venv",
   "language": "python",
   "name": "python3"
  },
  "language_info": {
   "codemirror_mode": {
    "name": "ipython",
    "version": 3
   },
   "file_extension": ".py",
   "mimetype": "text/x-python",
   "name": "python",
   "nbconvert_exporter": "python",
   "pygments_lexer": "ipython3",
   "version": "3.10.12"
  }
 },
 "nbformat": 4,
 "nbformat_minor": 2
}
