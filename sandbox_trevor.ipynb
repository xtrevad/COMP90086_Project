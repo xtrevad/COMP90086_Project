{
 "cells": [
  {
   "cell_type": "markdown",
   "metadata": {},
   "source": [
    "# Computer Vision - Final Project\n",
    "##### Trevor Adelson + Ben Salter"
   ]
  },
  {
   "cell_type": "code",
   "execution_count": 1,
   "metadata": {},
   "outputs": [],
   "source": [
    "from models import ConvnextPredictor, EfficientAttentionNet, train_and_save, get_optimal_num_workers\n",
    "from torchsummary import summary\n"
   ]
  },
  {
   "cell_type": "code",
   "execution_count": 4,
   "metadata": {},
   "outputs": [],
   "source": [
    "config = {\n",
    "    'model': 'EfficientChannelAttentionNet',\n",
    "    'train_csv': './COMP90086_2024_Project_train/train.csv',\n",
    "    'train_img_dir': './COMP90086_2024_Project_train/train',\n",
    "    'test_csv': './COMP90086_2024_Project_test/test.csv',\n",
    "    'test_img_dir': './COMP90086_2024_Project_test/test',\n",
    "    'image_size': 224,\n",
    "    'val_ratio': 0.05,\n",
    "    'use_augmentation': True,\n",
    "    'batch_size': 32,\n",
    "    'num_workers': get_optimal_num_workers(),\n",
    "    'num_classes': 6,\n",
    "    'dropout_rate': 0.0,  # NO DROPOUT\n",
    "    'learning_rate': 0.0001,\n",
    "    'lr_factor': 0.1,\n",
    "    'lr_patience': 3,\n",
    "    'freeze_layers': False,\n",
    "    'num_epochs': 30,\n",
    "    'early_stopping_patience': 10,\n",
    "    'model_save_path': 'efficient_channel_attention_net.pth',\n",
    "    'predictions_save_path': 'efficient_channel_attention_predictions.csv'\n",
    "}"
   ]
  },
  {
   "cell_type": "code",
   "execution_count": null,
   "metadata": {},
   "outputs": [],
   "source": [
    "train_and_save(config)"
   ]
  }
 ],
 "metadata": {
  "kernelspec": {
   "display_name": ".venv",
   "language": "python",
   "name": "python3"
  },
  "language_info": {
   "codemirror_mode": {
    "name": "ipython",
    "version": 3
   },
   "file_extension": ".py",
   "mimetype": "text/x-python",
   "name": "python",
   "nbconvert_exporter": "python",
   "pygments_lexer": "ipython3",
   "version": "3.12.7"
  }
 },
 "nbformat": 4,
 "nbformat_minor": 4
}
