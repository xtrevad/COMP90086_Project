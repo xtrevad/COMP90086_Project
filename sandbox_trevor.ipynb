{
 "cells": [
  {
   "cell_type": "markdown",
   "metadata": {},
   "source": [
    "# Computer Vision - Final Project\n",
    "##### Trevor Adelson + Ben Salter"
   ]
  },
  {
   "cell_type": "code",
   "execution_count": 1,
   "metadata": {},
   "outputs": [],
   "source": [
    "from models import train_and_save"
   ]
  },
  {
   "cell_type": "code",
   "execution_count": 4,
   "metadata": {},
   "outputs": [],
   "source": [
    "config = {\n",
    "    'model': 'EfficientAttentionNet',\n",
    "    'train_csv': './COMP90086_2024_Project_train/train.csv',\n",
    "    'train_img_dir': './preprocessed_images/train',\n",
    "    'test_csv': './COMP90086_2024_Project_test/test.csv',\n",
    "    'test_img_dir': './preprocessed_images/test',\n",
    "    'val_ratio': 0.1,\n",
    "    'use_augmentation': True,\n",
    "    'use_quantized': False,\n",
    "    'batch_size': 32,\n",
    "    'num_classes': 6,\n",
    "    'dropout_rate': 0.3,\n",
    "    'learning_rate': 0.001,\n",
    "    'lr_factor': 0.1,\n",
    "    'lr_patience': 2,\n",
    "    'freeze_layers': False,\n",
    "    'num_epochs': 30,\n",
    "    'early_stopping_patience': 5,\n",
    "    'model_save_path': 'efficient_attention_net_unquantized.pth',\n",
    "    'predictions_save_path': 'efficient_attention_predictions_unquantized.csv',\n",
    "    'use_existing_split': False,  # Set to True to use existing split and stats\n",
    "    'split_stats_file': 'split_and_stats.json'  # File to save/load split and stats\n",
    "}"
   ]
  },
  {
   "cell_type": "code",
   "execution_count": null,
   "metadata": {},
   "outputs": [
    {
     "name": "stderr",
     "output_type": "stream",
     "text": [
      "/workspace/COMP90086_Project/models.py:32: FutureWarning: Series.__getitem__ treating keys as positions is deprecated. In a future version, integer keys will always be treated as labels (consistent with DataFrame behavior). To access a value by position, use `ser.iloc[pos]`\n",
      "  img_name = str(row[0])\n"
     ]
    },
    {
     "name": "stdout",
     "output_type": "stream",
     "text": [
      "Calculating training dataset statistics...\n"
     ]
    },
    {
     "data": {
      "application/vnd.jupyter.widget-view+json": {
       "model_id": "844d8e9877c9438daf0a660110f314d0",
       "version_major": 2,
       "version_minor": 0
      },
      "text/plain": [
       "Calculating Stats:   0%|          | 0/6912 [00:00<?, ?sample/s]"
      ]
     },
     "metadata": {},
     "output_type": "display_data"
    },
    {
     "name": "stdout",
     "output_type": "stream",
     "text": [
      "Training dataset mean: tensor([0.4670, 0.4409, 0.4064])\n",
      "Training dataset std: tensor([0.2710, 0.2282, 0.1905])\n",
      "Split and stats saved to split_and_stats.json\n"
     ]
    },
    {
     "name": "stderr",
     "output_type": "stream",
     "text": [
      "/workspace/COMP90086_Project/models.py:32: FutureWarning: Series.__getitem__ treating keys as positions is deprecated. In a future version, integer keys will always be treated as labels (consistent with DataFrame behavior). To access a value by position, use `ser.iloc[pos]`\n",
      "  img_name = str(row[0])\n"
     ]
    },
    {
     "name": "stdout",
     "output_type": "stream",
     "text": [
      "Model: EfficientAttentionNet\n",
      "Using quantized images: False\n",
      "Training...\n",
      "Epoch 1/30\n"
     ]
    },
    {
     "name": "stderr",
     "output_type": "stream",
     "text": [
      "/workspace/COMP90086_Project/.venv/lib/python3.10/site-packages/torch/optim/lr_scheduler.py:60: UserWarning: The verbose parameter is deprecated. Please use get_last_lr() to access the learning rate.\n",
      "  warnings.warn(\n"
     ]
    },
    {
     "data": {
      "application/vnd.jupyter.widget-view+json": {
       "model_id": "97bcf08c32fa4865947e48ea957b2767",
       "version_major": 2,
       "version_minor": 0
      },
      "text/plain": [
       "Training:   0%|          | 0/864 [00:00<?, ?it/s]"
      ]
     },
     "metadata": {},
     "output_type": "display_data"
    },
    {
     "data": {
      "application/vnd.jupyter.widget-view+json": {
       "model_id": "a2bf2c84053545018a833a5e94af6e8f",
       "version_major": 2,
       "version_minor": 0
      },
      "text/plain": [
       "Validating:   0%|          | 0/24 [00:00<?, ?it/s]"
      ]
     },
     "metadata": {},
     "output_type": "display_data"
    },
    {
     "name": "stdout",
     "output_type": "stream",
     "text": [
      "Train Loss: 1.2939, Train Acc: 45.54%\n",
      "Val Loss: 0.9904, Val Acc: 61.07%\n",
      "Learning Rate: 0.001000\n",
      "------------------------------------------------------------\n",
      "Epoch 2/30\n"
     ]
    },
    {
     "data": {
      "application/vnd.jupyter.widget-view+json": {
       "model_id": "bf3bc9aca21a4e46a2a241600e63785f",
       "version_major": 2,
       "version_minor": 0
      },
      "text/plain": [
       "Training:   0%|          | 0/864 [00:00<?, ?it/s]"
      ]
     },
     "metadata": {},
     "output_type": "display_data"
    }
   ],
   "source": [
    "train_and_save(config)"
   ]
  }
 ],
 "metadata": {
  "kernelspec": {
   "display_name": ".venv",
   "language": "python",
   "name": "python3"
  },
  "language_info": {
   "codemirror_mode": {
    "name": "ipython",
    "version": 3
   },
   "file_extension": ".py",
   "mimetype": "text/x-python",
   "name": "python",
   "nbconvert_exporter": "python",
   "pygments_lexer": "ipython3",
   "version": "3.10.12"
  }
 },
 "nbformat": 4,
 "nbformat_minor": 4
}
